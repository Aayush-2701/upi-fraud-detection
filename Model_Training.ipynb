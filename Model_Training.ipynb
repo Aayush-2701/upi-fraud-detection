{
 "cells": [
  {
   "cell_type": "code",
   "execution_count": 1,
   "id": "d16dce1d-4edf-4d65-a5de-95ac3d5f76dd",
   "metadata": {},
   "outputs": [],
   "source": [
    "import numpy as np\n",
    "import pandas as pd\n",
    "import seaborn as sns\n"
   ]
  },
  {
   "cell_type": "markdown",
   "id": "f6d7b159-dff1-4494-b9b8-1fa4fde08e1c",
   "metadata": {},
   "source": [
    "# Model Building Part"
   ]
  },
  {
   "cell_type": "code",
   "execution_count": null,
   "id": "5173b9eb-c5c7-4fac-ae68-1e9d26fdc158",
   "metadata": {},
   "outputs": [],
   "source": []
  }
 ],
 "metadata": {
  "kernelspec": {
   "display_name": "Python 3 (ipykernel)",
   "language": "python",
   "name": "python3"
  },
  "language_info": {
   "codemirror_mode": {
    "name": "ipython",
    "version": 3
   },
   "file_extension": ".py",
   "mimetype": "text/x-python",
   "name": "python",
   "nbconvert_exporter": "python",
   "pygments_lexer": "ipython3",
   "version": "3.13.1"
  }
 },
 "nbformat": 4,
 "nbformat_minor": 5
}
