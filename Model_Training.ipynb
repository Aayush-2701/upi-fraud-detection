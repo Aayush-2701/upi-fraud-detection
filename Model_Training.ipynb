{
 "cells": [
  {
   "cell_type": "code",
   "execution_count": 4,
   "id": "d16dce1d-4edf-4d65-a5de-95ac3d5f76dd",
   "metadata": {},
   "outputs": [],
   "source": [
    "import numpy as np\n",
    "import pandas as pd\n",
    "import seaborn as sns\n"
   ]
  },
  {
   "cell_type": "markdown",
   "id": "f6d7b159-dff1-4494-b9b8-1fa4fde08e1c",
   "metadata": {},
   "source": [
    "# Model Building Part"
   ]
  },
  {
   "cell_type": "markdown",
   "id": "3e137a60-29b3-4e0f-8bc9-e342a6070374",
   "metadata": {},
   "source": [
    "### Removing unnnecessary columns from entire dataset"
   ]
  },
  {
   "cell_type": "code",
   "execution_count": 5,
   "id": "bdb59f1b-9222-4cf8-9b80-a45fd044b495",
   "metadata": {},
   "outputs": [],
   "source": [
    "df = pd.read_csv(\"cleaned_upi_data.csv\")\n"
   ]
  },
  {
   "cell_type": "code",
   "execution_count": 6,
   "id": "9b51335d-bee6-4c74-9364-703be303e803",
   "metadata": {},
   "outputs": [],
   "source": [
    "columns_to_drop=['Days_Since_Last_Transaction','Transaction_Frequency','Transaction_Amount_Deviation','Transaction_Status','Time',\n",
    "                 'Date','Device_OS','Transaction_Channel','Transaction_City']\n",
    "df.drop(columns=columns_to_drop,inplace=True,errors='ignore')"
   ]
  },
  {
   "cell_type": "code",
   "execution_count": 7,
   "id": "1e001981-3c3d-41d1-b845-a0b7602c0f03",
   "metadata": {},
   "outputs": [
    {
     "name": "stdout",
     "output_type": "stream",
     "text": [
      "<class 'pandas.core.frame.DataFrame'>\n",
      "RangeIndex: 647 entries, 0 to 646\n",
      "Data columns (total 10 columns):\n",
      " #   Column             Non-Null Count  Dtype  \n",
      "---  ------             --------------  -----  \n",
      " 0   Merchant_ID        647 non-null    object \n",
      " 1   Transaction_Type   647 non-null    object \n",
      " 2   Payment_Gateway    647 non-null    object \n",
      " 3   Transaction_State  647 non-null    object \n",
      " 4   IP_Address         647 non-null    object \n",
      " 5   Merchant_Category  647 non-null    object \n",
      " 6   amount             647 non-null    float64\n",
      " 7   fraud              647 non-null    int64  \n",
      " 8   Year               647 non-null    int64  \n",
      " 9   Month              647 non-null    object \n",
      "dtypes: float64(1), int64(2), object(7)\n",
      "memory usage: 50.7+ KB\n"
     ]
    }
   ],
   "source": [
    "df.info()"
   ]
  },
  {
   "cell_type": "markdown",
   "id": "225224ef-f187-4553-906e-a1cf6c1a757e",
   "metadata": {},
   "source": [
    "⚠️ Observation:\n",
    "In the first notebook, column Year is:\n",
    "\n",
    "yaml\n",
    "Copy\n",
    "Edit\n",
    "Year: int32\n",
    "memory usage: 48.1+ KB\n",
    "In the new notebook, column Year is:\n",
    "\n",
    "yaml\n",
    "Copy\n",
    "Edit\n",
    "Year: int64\n",
    "memory usage: 50.7+ KB\n",
    "✅ So, What Changed?\n",
    "The data type of the Year column changed from int32 to int64 when you reloaded the CSV file in the second notebook.\n",
    "\n",
    "\n",
    "CSV files do not store data type metadata, so when you reload them, pandas defaults to int64 for integers.\n",
    "\n",
    "📌 Why This Affects Memory:\n",
    "int32 = 4 bytes per value\n",
    "\n",
    "int64 = 8 bytes per value\n",
    "So 647 entries × 4 bytes = 2.6 KB more used — that’s exactly the difference you noticed.\n",
    "\n",
    "\n",
    "\n",
    "✅ How to Fix It (If You Want Consistency)\n",
    "When reading the CSV, force the Year column to be int32:\n",
    "\n",
    "python\n",
    "Copy\n",
    "Edit\n",
    "df = pd.read_csv(\"your_cleaned_data.csv\", dtype={'Year': 'int32'})\n",
    "This will reduce memory and keep data types consistent with the original notebook.\n",
    "\n",
    "\n",
    "\n",
    "🧠 TL;DR:\n",
    "Memory usage increased because Year became int64 instead of int32.\n",
    "\n",
    "This happens because CSVs don’t preserve column types.\n",
    "\n",
    "Use dtype= in read_csv() to explicitly control column types."
   ]
  },
  {
   "cell_type": "code",
   "execution_count": 8,
   "id": "7517a5ef-6e16-4655-9bac-b0cef53139e6",
   "metadata": {},
   "outputs": [
    {
     "ename": "FileNotFoundError",
     "evalue": "[Errno 2] No such file or directory: 'your_cleaned_data.csv'",
     "output_type": "error",
     "traceback": [
      "\u001b[1;31m---------------------------------------------------------------------------\u001b[0m",
      "\u001b[1;31mFileNotFoundError\u001b[0m                         Traceback (most recent call last)",
      "Cell \u001b[1;32mIn[8], line 1\u001b[0m\n\u001b[1;32m----> 1\u001b[0m df \u001b[38;5;241m=\u001b[39m \u001b[43mpd\u001b[49m\u001b[38;5;241;43m.\u001b[39;49m\u001b[43mread_csv\u001b[49m\u001b[43m(\u001b[49m\u001b[38;5;124;43m\"\u001b[39;49m\u001b[38;5;124;43myour_cleaned_data.csv\u001b[39;49m\u001b[38;5;124;43m\"\u001b[39;49m\u001b[43m,\u001b[49m\u001b[43m \u001b[49m\u001b[43mdtype\u001b[49m\u001b[38;5;241;43m=\u001b[39;49m\u001b[43m{\u001b[49m\u001b[38;5;124;43m'\u001b[39;49m\u001b[38;5;124;43mYear\u001b[39;49m\u001b[38;5;124;43m'\u001b[39;49m\u001b[43m:\u001b[49m\u001b[43m \u001b[49m\u001b[38;5;124;43m'\u001b[39;49m\u001b[38;5;124;43mint32\u001b[39;49m\u001b[38;5;124;43m'\u001b[39;49m\u001b[43m}\u001b[49m\u001b[43m)\u001b[49m\n",
      "File \u001b[1;32mC:\\Program Files\\Python313\\Lib\\site-packages\\pandas\\io\\parsers\\readers.py:1026\u001b[0m, in \u001b[0;36mread_csv\u001b[1;34m(filepath_or_buffer, sep, delimiter, header, names, index_col, usecols, dtype, engine, converters, true_values, false_values, skipinitialspace, skiprows, skipfooter, nrows, na_values, keep_default_na, na_filter, verbose, skip_blank_lines, parse_dates, infer_datetime_format, keep_date_col, date_parser, date_format, dayfirst, cache_dates, iterator, chunksize, compression, thousands, decimal, lineterminator, quotechar, quoting, doublequote, escapechar, comment, encoding, encoding_errors, dialect, on_bad_lines, delim_whitespace, low_memory, memory_map, float_precision, storage_options, dtype_backend)\u001b[0m\n\u001b[0;32m   1013\u001b[0m kwds_defaults \u001b[38;5;241m=\u001b[39m _refine_defaults_read(\n\u001b[0;32m   1014\u001b[0m     dialect,\n\u001b[0;32m   1015\u001b[0m     delimiter,\n\u001b[1;32m   (...)\u001b[0m\n\u001b[0;32m   1022\u001b[0m     dtype_backend\u001b[38;5;241m=\u001b[39mdtype_backend,\n\u001b[0;32m   1023\u001b[0m )\n\u001b[0;32m   1024\u001b[0m kwds\u001b[38;5;241m.\u001b[39mupdate(kwds_defaults)\n\u001b[1;32m-> 1026\u001b[0m \u001b[38;5;28;01mreturn\u001b[39;00m \u001b[43m_read\u001b[49m\u001b[43m(\u001b[49m\u001b[43mfilepath_or_buffer\u001b[49m\u001b[43m,\u001b[49m\u001b[43m \u001b[49m\u001b[43mkwds\u001b[49m\u001b[43m)\u001b[49m\n",
      "File \u001b[1;32mC:\\Program Files\\Python313\\Lib\\site-packages\\pandas\\io\\parsers\\readers.py:620\u001b[0m, in \u001b[0;36m_read\u001b[1;34m(filepath_or_buffer, kwds)\u001b[0m\n\u001b[0;32m    617\u001b[0m _validate_names(kwds\u001b[38;5;241m.\u001b[39mget(\u001b[38;5;124m\"\u001b[39m\u001b[38;5;124mnames\u001b[39m\u001b[38;5;124m\"\u001b[39m, \u001b[38;5;28;01mNone\u001b[39;00m))\n\u001b[0;32m    619\u001b[0m \u001b[38;5;66;03m# Create the parser.\u001b[39;00m\n\u001b[1;32m--> 620\u001b[0m parser \u001b[38;5;241m=\u001b[39m \u001b[43mTextFileReader\u001b[49m\u001b[43m(\u001b[49m\u001b[43mfilepath_or_buffer\u001b[49m\u001b[43m,\u001b[49m\u001b[43m \u001b[49m\u001b[38;5;241;43m*\u001b[39;49m\u001b[38;5;241;43m*\u001b[39;49m\u001b[43mkwds\u001b[49m\u001b[43m)\u001b[49m\n\u001b[0;32m    622\u001b[0m \u001b[38;5;28;01mif\u001b[39;00m chunksize \u001b[38;5;129;01mor\u001b[39;00m iterator:\n\u001b[0;32m    623\u001b[0m     \u001b[38;5;28;01mreturn\u001b[39;00m parser\n",
      "File \u001b[1;32mC:\\Program Files\\Python313\\Lib\\site-packages\\pandas\\io\\parsers\\readers.py:1620\u001b[0m, in \u001b[0;36mTextFileReader.__init__\u001b[1;34m(self, f, engine, **kwds)\u001b[0m\n\u001b[0;32m   1617\u001b[0m     \u001b[38;5;28mself\u001b[39m\u001b[38;5;241m.\u001b[39moptions[\u001b[38;5;124m\"\u001b[39m\u001b[38;5;124mhas_index_names\u001b[39m\u001b[38;5;124m\"\u001b[39m] \u001b[38;5;241m=\u001b[39m kwds[\u001b[38;5;124m\"\u001b[39m\u001b[38;5;124mhas_index_names\u001b[39m\u001b[38;5;124m\"\u001b[39m]\n\u001b[0;32m   1619\u001b[0m \u001b[38;5;28mself\u001b[39m\u001b[38;5;241m.\u001b[39mhandles: IOHandles \u001b[38;5;241m|\u001b[39m \u001b[38;5;28;01mNone\u001b[39;00m \u001b[38;5;241m=\u001b[39m \u001b[38;5;28;01mNone\u001b[39;00m\n\u001b[1;32m-> 1620\u001b[0m \u001b[38;5;28mself\u001b[39m\u001b[38;5;241m.\u001b[39m_engine \u001b[38;5;241m=\u001b[39m \u001b[38;5;28;43mself\u001b[39;49m\u001b[38;5;241;43m.\u001b[39;49m\u001b[43m_make_engine\u001b[49m\u001b[43m(\u001b[49m\u001b[43mf\u001b[49m\u001b[43m,\u001b[49m\u001b[43m \u001b[49m\u001b[38;5;28;43mself\u001b[39;49m\u001b[38;5;241;43m.\u001b[39;49m\u001b[43mengine\u001b[49m\u001b[43m)\u001b[49m\n",
      "File \u001b[1;32mC:\\Program Files\\Python313\\Lib\\site-packages\\pandas\\io\\parsers\\readers.py:1880\u001b[0m, in \u001b[0;36mTextFileReader._make_engine\u001b[1;34m(self, f, engine)\u001b[0m\n\u001b[0;32m   1878\u001b[0m     \u001b[38;5;28;01mif\u001b[39;00m \u001b[38;5;124m\"\u001b[39m\u001b[38;5;124mb\u001b[39m\u001b[38;5;124m\"\u001b[39m \u001b[38;5;129;01mnot\u001b[39;00m \u001b[38;5;129;01min\u001b[39;00m mode:\n\u001b[0;32m   1879\u001b[0m         mode \u001b[38;5;241m+\u001b[39m\u001b[38;5;241m=\u001b[39m \u001b[38;5;124m\"\u001b[39m\u001b[38;5;124mb\u001b[39m\u001b[38;5;124m\"\u001b[39m\n\u001b[1;32m-> 1880\u001b[0m \u001b[38;5;28mself\u001b[39m\u001b[38;5;241m.\u001b[39mhandles \u001b[38;5;241m=\u001b[39m \u001b[43mget_handle\u001b[49m\u001b[43m(\u001b[49m\n\u001b[0;32m   1881\u001b[0m \u001b[43m    \u001b[49m\u001b[43mf\u001b[49m\u001b[43m,\u001b[49m\n\u001b[0;32m   1882\u001b[0m \u001b[43m    \u001b[49m\u001b[43mmode\u001b[49m\u001b[43m,\u001b[49m\n\u001b[0;32m   1883\u001b[0m \u001b[43m    \u001b[49m\u001b[43mencoding\u001b[49m\u001b[38;5;241;43m=\u001b[39;49m\u001b[38;5;28;43mself\u001b[39;49m\u001b[38;5;241;43m.\u001b[39;49m\u001b[43moptions\u001b[49m\u001b[38;5;241;43m.\u001b[39;49m\u001b[43mget\u001b[49m\u001b[43m(\u001b[49m\u001b[38;5;124;43m\"\u001b[39;49m\u001b[38;5;124;43mencoding\u001b[39;49m\u001b[38;5;124;43m\"\u001b[39;49m\u001b[43m,\u001b[49m\u001b[43m \u001b[49m\u001b[38;5;28;43;01mNone\u001b[39;49;00m\u001b[43m)\u001b[49m\u001b[43m,\u001b[49m\n\u001b[0;32m   1884\u001b[0m \u001b[43m    \u001b[49m\u001b[43mcompression\u001b[49m\u001b[38;5;241;43m=\u001b[39;49m\u001b[38;5;28;43mself\u001b[39;49m\u001b[38;5;241;43m.\u001b[39;49m\u001b[43moptions\u001b[49m\u001b[38;5;241;43m.\u001b[39;49m\u001b[43mget\u001b[49m\u001b[43m(\u001b[49m\u001b[38;5;124;43m\"\u001b[39;49m\u001b[38;5;124;43mcompression\u001b[39;49m\u001b[38;5;124;43m\"\u001b[39;49m\u001b[43m,\u001b[49m\u001b[43m \u001b[49m\u001b[38;5;28;43;01mNone\u001b[39;49;00m\u001b[43m)\u001b[49m\u001b[43m,\u001b[49m\n\u001b[0;32m   1885\u001b[0m \u001b[43m    \u001b[49m\u001b[43mmemory_map\u001b[49m\u001b[38;5;241;43m=\u001b[39;49m\u001b[38;5;28;43mself\u001b[39;49m\u001b[38;5;241;43m.\u001b[39;49m\u001b[43moptions\u001b[49m\u001b[38;5;241;43m.\u001b[39;49m\u001b[43mget\u001b[49m\u001b[43m(\u001b[49m\u001b[38;5;124;43m\"\u001b[39;49m\u001b[38;5;124;43mmemory_map\u001b[39;49m\u001b[38;5;124;43m\"\u001b[39;49m\u001b[43m,\u001b[49m\u001b[43m \u001b[49m\u001b[38;5;28;43;01mFalse\u001b[39;49;00m\u001b[43m)\u001b[49m\u001b[43m,\u001b[49m\n\u001b[0;32m   1886\u001b[0m \u001b[43m    \u001b[49m\u001b[43mis_text\u001b[49m\u001b[38;5;241;43m=\u001b[39;49m\u001b[43mis_text\u001b[49m\u001b[43m,\u001b[49m\n\u001b[0;32m   1887\u001b[0m \u001b[43m    \u001b[49m\u001b[43merrors\u001b[49m\u001b[38;5;241;43m=\u001b[39;49m\u001b[38;5;28;43mself\u001b[39;49m\u001b[38;5;241;43m.\u001b[39;49m\u001b[43moptions\u001b[49m\u001b[38;5;241;43m.\u001b[39;49m\u001b[43mget\u001b[49m\u001b[43m(\u001b[49m\u001b[38;5;124;43m\"\u001b[39;49m\u001b[38;5;124;43mencoding_errors\u001b[39;49m\u001b[38;5;124;43m\"\u001b[39;49m\u001b[43m,\u001b[49m\u001b[43m \u001b[49m\u001b[38;5;124;43m\"\u001b[39;49m\u001b[38;5;124;43mstrict\u001b[39;49m\u001b[38;5;124;43m\"\u001b[39;49m\u001b[43m)\u001b[49m\u001b[43m,\u001b[49m\n\u001b[0;32m   1888\u001b[0m \u001b[43m    \u001b[49m\u001b[43mstorage_options\u001b[49m\u001b[38;5;241;43m=\u001b[39;49m\u001b[38;5;28;43mself\u001b[39;49m\u001b[38;5;241;43m.\u001b[39;49m\u001b[43moptions\u001b[49m\u001b[38;5;241;43m.\u001b[39;49m\u001b[43mget\u001b[49m\u001b[43m(\u001b[49m\u001b[38;5;124;43m\"\u001b[39;49m\u001b[38;5;124;43mstorage_options\u001b[39;49m\u001b[38;5;124;43m\"\u001b[39;49m\u001b[43m,\u001b[49m\u001b[43m \u001b[49m\u001b[38;5;28;43;01mNone\u001b[39;49;00m\u001b[43m)\u001b[49m\u001b[43m,\u001b[49m\n\u001b[0;32m   1889\u001b[0m \u001b[43m\u001b[49m\u001b[43m)\u001b[49m\n\u001b[0;32m   1890\u001b[0m \u001b[38;5;28;01massert\u001b[39;00m \u001b[38;5;28mself\u001b[39m\u001b[38;5;241m.\u001b[39mhandles \u001b[38;5;129;01mis\u001b[39;00m \u001b[38;5;129;01mnot\u001b[39;00m \u001b[38;5;28;01mNone\u001b[39;00m\n\u001b[0;32m   1891\u001b[0m f \u001b[38;5;241m=\u001b[39m \u001b[38;5;28mself\u001b[39m\u001b[38;5;241m.\u001b[39mhandles\u001b[38;5;241m.\u001b[39mhandle\n",
      "File \u001b[1;32mC:\\Program Files\\Python313\\Lib\\site-packages\\pandas\\io\\common.py:873\u001b[0m, in \u001b[0;36mget_handle\u001b[1;34m(path_or_buf, mode, encoding, compression, memory_map, is_text, errors, storage_options)\u001b[0m\n\u001b[0;32m    868\u001b[0m \u001b[38;5;28;01melif\u001b[39;00m \u001b[38;5;28misinstance\u001b[39m(handle, \u001b[38;5;28mstr\u001b[39m):\n\u001b[0;32m    869\u001b[0m     \u001b[38;5;66;03m# Check whether the filename is to be opened in binary mode.\u001b[39;00m\n\u001b[0;32m    870\u001b[0m     \u001b[38;5;66;03m# Binary mode does not support 'encoding' and 'newline'.\u001b[39;00m\n\u001b[0;32m    871\u001b[0m     \u001b[38;5;28;01mif\u001b[39;00m ioargs\u001b[38;5;241m.\u001b[39mencoding \u001b[38;5;129;01mand\u001b[39;00m \u001b[38;5;124m\"\u001b[39m\u001b[38;5;124mb\u001b[39m\u001b[38;5;124m\"\u001b[39m \u001b[38;5;129;01mnot\u001b[39;00m \u001b[38;5;129;01min\u001b[39;00m ioargs\u001b[38;5;241m.\u001b[39mmode:\n\u001b[0;32m    872\u001b[0m         \u001b[38;5;66;03m# Encoding\u001b[39;00m\n\u001b[1;32m--> 873\u001b[0m         handle \u001b[38;5;241m=\u001b[39m \u001b[38;5;28;43mopen\u001b[39;49m\u001b[43m(\u001b[49m\n\u001b[0;32m    874\u001b[0m \u001b[43m            \u001b[49m\u001b[43mhandle\u001b[49m\u001b[43m,\u001b[49m\n\u001b[0;32m    875\u001b[0m \u001b[43m            \u001b[49m\u001b[43mioargs\u001b[49m\u001b[38;5;241;43m.\u001b[39;49m\u001b[43mmode\u001b[49m\u001b[43m,\u001b[49m\n\u001b[0;32m    876\u001b[0m \u001b[43m            \u001b[49m\u001b[43mencoding\u001b[49m\u001b[38;5;241;43m=\u001b[39;49m\u001b[43mioargs\u001b[49m\u001b[38;5;241;43m.\u001b[39;49m\u001b[43mencoding\u001b[49m\u001b[43m,\u001b[49m\n\u001b[0;32m    877\u001b[0m \u001b[43m            \u001b[49m\u001b[43merrors\u001b[49m\u001b[38;5;241;43m=\u001b[39;49m\u001b[43merrors\u001b[49m\u001b[43m,\u001b[49m\n\u001b[0;32m    878\u001b[0m \u001b[43m            \u001b[49m\u001b[43mnewline\u001b[49m\u001b[38;5;241;43m=\u001b[39;49m\u001b[38;5;124;43m\"\u001b[39;49m\u001b[38;5;124;43m\"\u001b[39;49m\u001b[43m,\u001b[49m\n\u001b[0;32m    879\u001b[0m \u001b[43m        \u001b[49m\u001b[43m)\u001b[49m\n\u001b[0;32m    880\u001b[0m     \u001b[38;5;28;01melse\u001b[39;00m:\n\u001b[0;32m    881\u001b[0m         \u001b[38;5;66;03m# Binary mode\u001b[39;00m\n\u001b[0;32m    882\u001b[0m         handle \u001b[38;5;241m=\u001b[39m \u001b[38;5;28mopen\u001b[39m(handle, ioargs\u001b[38;5;241m.\u001b[39mmode)\n",
      "\u001b[1;31mFileNotFoundError\u001b[0m: [Errno 2] No such file or directory: 'your_cleaned_data.csv'"
     ]
    }
   ],
   "source": [
    "df = pd.read_csv(\"your_cleaned_data.csv\", dtype={'Year': 'int32'})\n"
   ]
  },
  {
   "cell_type": "code",
   "execution_count": 9,
   "id": "788edd84-aa87-45e6-9510-2b5b0e61f175",
   "metadata": {},
   "outputs": [
    {
     "data": {
      "text/plain": [
       "['.ipynb_checkpoints',\n",
       " 'cleaned_upi_data.csv',\n",
       " 'Model_Training.ipynb',\n",
       " 'upi1.ipynb']"
      ]
     },
     "execution_count": 9,
     "metadata": {},
     "output_type": "execute_result"
    }
   ],
   "source": [
    "import os\n",
    "os.listdir()"
   ]
  },
  {
   "cell_type": "code",
   "execution_count": 10,
   "id": "ac54add7-e5d9-4f75-b5aa-7046755912c8",
   "metadata": {},
   "outputs": [],
   "source": [
    "import pandas as pd\n",
    "\n",
    "df = pd.read_csv(\"cleaned_upi_data.csv\", dtype={'Year': 'int32'})\n",
    "#this is to bring consistency in the data as per the previous cleane data\n"
   ]
  },
  {
   "cell_type": "code",
   "execution_count": 11,
   "id": "30df7ad0-a468-43ec-beed-5a210bd16ff3",
   "metadata": {},
   "outputs": [
    {
     "name": "stdout",
     "output_type": "stream",
     "text": [
      "<class 'pandas.core.frame.DataFrame'>\n",
      "RangeIndex: 647 entries, 0 to 646\n",
      "Data columns (total 10 columns):\n",
      " #   Column             Non-Null Count  Dtype  \n",
      "---  ------             --------------  -----  \n",
      " 0   Merchant_ID        647 non-null    object \n",
      " 1   Transaction_Type   647 non-null    object \n",
      " 2   Payment_Gateway    647 non-null    object \n",
      " 3   Transaction_State  647 non-null    object \n",
      " 4   IP_Address         647 non-null    object \n",
      " 5   Merchant_Category  647 non-null    object \n",
      " 6   amount             647 non-null    float64\n",
      " 7   fraud              647 non-null    int64  \n",
      " 8   Year               647 non-null    int32  \n",
      " 9   Month              647 non-null    object \n",
      "dtypes: float64(1), int32(1), int64(1), object(7)\n",
      "memory usage: 48.1+ KB\n"
     ]
    }
   ],
   "source": [
    "df.info()"
   ]
  },
  {
   "cell_type": "code",
   "execution_count": 12,
   "id": "e5dd11f1-11ee-458c-aeee-63121e5df7fa",
   "metadata": {},
   "outputs": [
    {
     "data": {
      "text/plain": [
       "(647, 10)"
      ]
     },
     "execution_count": 12,
     "metadata": {},
     "output_type": "execute_result"
    }
   ],
   "source": [
    "df.shape"
   ]
  },
  {
   "cell_type": "code",
   "execution_count": 13,
   "id": "8040435e-f677-48e0-bb05-7f20a2878f26",
   "metadata": {},
   "outputs": [
    {
     "data": {
      "text/plain": [
       "Index(['Merchant_ID', 'Transaction_Type', 'Payment_Gateway',\n",
       "       'Transaction_State', 'IP_Address', 'Merchant_Category', 'amount',\n",
       "       'fraud', 'Year', 'Month'],\n",
       "      dtype='object')"
      ]
     },
     "execution_count": 13,
     "metadata": {},
     "output_type": "execute_result"
    }
   ],
   "source": [
    "df.columns"
   ]
  },
  {
   "cell_type": "markdown",
   "id": "5c283e48-688f-461a-9799-1ebe51c023e1",
   "metadata": {},
   "source": [
    "### encoding and scaling(first learn it)"
   ]
  },
  {
   "cell_type": "code",
   "execution_count": 14,
   "id": "1d4bfe96-a0ab-4da2-9bcb-a9fe7d2fb792",
   "metadata": {},
   "outputs": [],
   "source": [
    "data=df.copy()"
   ]
  },
  {
   "cell_type": "code",
   "execution_count": 15,
   "id": "ca1ad442-a37a-4fbe-bd05-07c3409649ab",
   "metadata": {},
   "outputs": [
    {
     "name": "stdout",
     "output_type": "stream",
     "text": [
      "<class 'pandas.core.frame.DataFrame'>\n",
      "RangeIndex: 647 entries, 0 to 646\n",
      "Data columns (total 10 columns):\n",
      " #   Column             Non-Null Count  Dtype  \n",
      "---  ------             --------------  -----  \n",
      " 0   Merchant_ID        647 non-null    object \n",
      " 1   Transaction_Type   647 non-null    object \n",
      " 2   Payment_Gateway    647 non-null    object \n",
      " 3   Transaction_State  647 non-null    object \n",
      " 4   IP_Address         647 non-null    object \n",
      " 5   Merchant_Category  647 non-null    object \n",
      " 6   amount             647 non-null    float64\n",
      " 7   fraud              647 non-null    int64  \n",
      " 8   Year               647 non-null    int32  \n",
      " 9   Month              647 non-null    object \n",
      "dtypes: float64(1), int32(1), int64(1), object(7)\n",
      "memory usage: 48.1+ KB\n"
     ]
    }
   ],
   "source": [
    "data.info()"
   ]
  },
  {
   "cell_type": "code",
   "execution_count": 16,
   "id": "2ca3c57f-e4cb-42a3-8893-ec94b9bbc89e",
   "metadata": {},
   "outputs": [],
   "source": [
    "#converting year column to object\n",
    "data['Year']=data['Year'].astype('object')"
   ]
  },
  {
   "cell_type": "code",
   "execution_count": 17,
   "id": "c9c9119b-7a0b-4360-8b6f-da6a0afd0863",
   "metadata": {},
   "outputs": [],
   "source": [
    "df.to_csv(\"cleaned_upi_data.csv\", index=False)"
   ]
  },
  {
   "cell_type": "code",
   "execution_count": 18,
   "id": "9fbd2568-d816-4a4a-a6e6-b1126e1bef31",
   "metadata": {},
   "outputs": [
    {
     "data": {
      "text/plain": [
       "Index(['Merchant_ID', 'Transaction_Type', 'Payment_Gateway',\n",
       "       'Transaction_State', 'IP_Address', 'Merchant_Category', 'Year',\n",
       "       'Month'],\n",
       "      dtype='object')"
      ]
     },
     "execution_count": 18,
     "metadata": {},
     "output_type": "execute_result"
    }
   ],
   "source": [
    "#extracting categorical columns from data\n",
    "categorical_cols=data.select_dtypes(include=['object']).columns\n",
    "categorical_cols"
   ]
  },
  {
   "cell_type": "code",
   "execution_count": 19,
   "id": "1a406ddf-c78d-49c0-9570-25c4db6e688f",
   "metadata": {},
   "outputs": [
    {
     "ename": "ValueError",
     "evalue": "Columns must be same length as key",
     "output_type": "error",
     "traceback": [
      "\u001b[1;31m---------------------------------------------------------------------------\u001b[0m",
      "\u001b[1;31mValueError\u001b[0m                                Traceback (most recent call last)",
      "\u001b[1;32m~\\AppData\\Local\\Temp\\ipykernel_4792\\4244139762.py\u001b[0m in \u001b[0;36m?\u001b[1;34m()\u001b[0m\n\u001b[0;32m      2\u001b[0m \u001b[1;33m\u001b[0m\u001b[0m\n\u001b[0;32m      3\u001b[0m \u001b[0mcols\u001b[0m \u001b[1;33m=\u001b[0m \u001b[1;33m[\u001b[0m\u001b[1;34m'Year'\u001b[0m\u001b[1;33m,\u001b[0m\u001b[1;34m'Month'\u001b[0m\u001b[1;33m]\u001b[0m\u001b[1;33m\u001b[0m\u001b[1;33m\u001b[0m\u001b[0m\n\u001b[0;32m      4\u001b[0m \u001b[0mlabel_encoder\u001b[0m\u001b[1;33m=\u001b[0m \u001b[0mLabelEncoder\u001b[0m\u001b[1;33m(\u001b[0m\u001b[1;33m)\u001b[0m\u001b[1;33m\u001b[0m\u001b[1;33m\u001b[0m\u001b[0m\n\u001b[0;32m      5\u001b[0m \u001b[1;32mfor\u001b[0m \u001b[0mcol\u001b[0m \u001b[1;32min\u001b[0m \u001b[0mcols\u001b[0m\u001b[1;33m:\u001b[0m\u001b[1;33m\u001b[0m\u001b[1;33m\u001b[0m\u001b[0m\n\u001b[1;32m----> 6\u001b[1;33m     \u001b[0mdata\u001b[0m\u001b[1;33m[\u001b[0m\u001b[0mcols\u001b[0m\u001b[1;33m]\u001b[0m\u001b[1;33m=\u001b[0m\u001b[0mlabel_encoder\u001b[0m\u001b[1;33m.\u001b[0m\u001b[0mfit_transform\u001b[0m\u001b[1;33m(\u001b[0m\u001b[0mdata\u001b[0m\u001b[1;33m[\u001b[0m\u001b[0mcol\u001b[0m\u001b[1;33m]\u001b[0m\u001b[1;33m)\u001b[0m\u001b[1;33m\u001b[0m\u001b[1;33m\u001b[0m\u001b[0m\n\u001b[0m",
      "\u001b[1;32mC:\\Program Files\\Python313\\Lib\\site-packages\\pandas\\core\\frame.py\u001b[0m in \u001b[0;36m?\u001b[1;34m(self, key, value)\u001b[0m\n\u001b[0;32m   4295\u001b[0m \u001b[1;33m\u001b[0m\u001b[0m\n\u001b[0;32m   4296\u001b[0m         \u001b[1;32mif\u001b[0m \u001b[0misinstance\u001b[0m\u001b[1;33m(\u001b[0m\u001b[0mkey\u001b[0m\u001b[1;33m,\u001b[0m \u001b[0mDataFrame\u001b[0m\u001b[1;33m)\u001b[0m \u001b[1;32mor\u001b[0m \u001b[0mgetattr\u001b[0m\u001b[1;33m(\u001b[0m\u001b[0mkey\u001b[0m\u001b[1;33m,\u001b[0m \u001b[1;34m\"ndim\"\u001b[0m\u001b[1;33m,\u001b[0m \u001b[1;32mNone\u001b[0m\u001b[1;33m)\u001b[0m \u001b[1;33m==\u001b[0m \u001b[1;36m2\u001b[0m\u001b[1;33m:\u001b[0m\u001b[1;33m\u001b[0m\u001b[1;33m\u001b[0m\u001b[0m\n\u001b[0;32m   4297\u001b[0m             \u001b[0mself\u001b[0m\u001b[1;33m.\u001b[0m\u001b[0m_setitem_frame\u001b[0m\u001b[1;33m(\u001b[0m\u001b[0mkey\u001b[0m\u001b[1;33m,\u001b[0m \u001b[0mvalue\u001b[0m\u001b[1;33m)\u001b[0m\u001b[1;33m\u001b[0m\u001b[1;33m\u001b[0m\u001b[0m\n\u001b[0;32m   4298\u001b[0m         \u001b[1;32melif\u001b[0m \u001b[0misinstance\u001b[0m\u001b[1;33m(\u001b[0m\u001b[0mkey\u001b[0m\u001b[1;33m,\u001b[0m \u001b[1;33m(\u001b[0m\u001b[0mSeries\u001b[0m\u001b[1;33m,\u001b[0m \u001b[0mnp\u001b[0m\u001b[1;33m.\u001b[0m\u001b[0mndarray\u001b[0m\u001b[1;33m,\u001b[0m \u001b[0mlist\u001b[0m\u001b[1;33m,\u001b[0m \u001b[0mIndex\u001b[0m\u001b[1;33m)\u001b[0m\u001b[1;33m)\u001b[0m\u001b[1;33m:\u001b[0m\u001b[1;33m\u001b[0m\u001b[1;33m\u001b[0m\u001b[0m\n\u001b[1;32m-> 4299\u001b[1;33m             \u001b[0mself\u001b[0m\u001b[1;33m.\u001b[0m\u001b[0m_setitem_array\u001b[0m\u001b[1;33m(\u001b[0m\u001b[0mkey\u001b[0m\u001b[1;33m,\u001b[0m \u001b[0mvalue\u001b[0m\u001b[1;33m)\u001b[0m\u001b[1;33m\u001b[0m\u001b[1;33m\u001b[0m\u001b[0m\n\u001b[0m\u001b[0;32m   4300\u001b[0m         \u001b[1;32melif\u001b[0m \u001b[0misinstance\u001b[0m\u001b[1;33m(\u001b[0m\u001b[0mvalue\u001b[0m\u001b[1;33m,\u001b[0m \u001b[0mDataFrame\u001b[0m\u001b[1;33m)\u001b[0m\u001b[1;33m:\u001b[0m\u001b[1;33m\u001b[0m\u001b[1;33m\u001b[0m\u001b[0m\n\u001b[0;32m   4301\u001b[0m             \u001b[0mself\u001b[0m\u001b[1;33m.\u001b[0m\u001b[0m_set_item_frame_value\u001b[0m\u001b[1;33m(\u001b[0m\u001b[0mkey\u001b[0m\u001b[1;33m,\u001b[0m \u001b[0mvalue\u001b[0m\u001b[1;33m)\u001b[0m\u001b[1;33m\u001b[0m\u001b[1;33m\u001b[0m\u001b[0m\n\u001b[0;32m   4302\u001b[0m         elif (\n",
      "\u001b[1;32mC:\\Program Files\\Python313\\Lib\\site-packages\\pandas\\core\\frame.py\u001b[0m in \u001b[0;36m?\u001b[1;34m(self, key, value)\u001b[0m\n\u001b[0;32m   4354\u001b[0m                 \u001b[0mvalue\u001b[0m \u001b[1;33m=\u001b[0m \u001b[0mDataFrame\u001b[0m\u001b[1;33m(\u001b[0m\u001b[0mvalue\u001b[0m\u001b[1;33m)\u001b[0m\u001b[1;33m.\u001b[0m\u001b[0mvalues\u001b[0m\u001b[1;33m\u001b[0m\u001b[1;33m\u001b[0m\u001b[0m\n\u001b[0;32m   4355\u001b[0m                 \u001b[1;32mreturn\u001b[0m \u001b[0mself\u001b[0m\u001b[1;33m.\u001b[0m\u001b[0m_setitem_array\u001b[0m\u001b[1;33m(\u001b[0m\u001b[0mkey\u001b[0m\u001b[1;33m,\u001b[0m \u001b[0mvalue\u001b[0m\u001b[1;33m)\u001b[0m\u001b[1;33m\u001b[0m\u001b[1;33m\u001b[0m\u001b[0m\n\u001b[0;32m   4356\u001b[0m \u001b[1;33m\u001b[0m\u001b[0m\n\u001b[0;32m   4357\u001b[0m             \u001b[1;32melse\u001b[0m\u001b[1;33m:\u001b[0m\u001b[1;33m\u001b[0m\u001b[1;33m\u001b[0m\u001b[0m\n\u001b[1;32m-> 4358\u001b[1;33m                 \u001b[0mself\u001b[0m\u001b[1;33m.\u001b[0m\u001b[0m_iset_not_inplace\u001b[0m\u001b[1;33m(\u001b[0m\u001b[0mkey\u001b[0m\u001b[1;33m,\u001b[0m \u001b[0mvalue\u001b[0m\u001b[1;33m)\u001b[0m\u001b[1;33m\u001b[0m\u001b[1;33m\u001b[0m\u001b[0m\n\u001b[0m",
      "\u001b[1;32mC:\\Program Files\\Python313\\Lib\\site-packages\\pandas\\core\\frame.py\u001b[0m in \u001b[0;36m?\u001b[1;34m(self, key, value)\u001b[0m\n\u001b[0;32m   4373\u001b[0m                 \u001b[1;32mreturn\u001b[0m \u001b[0mobj\u001b[0m\u001b[1;33m[\u001b[0m\u001b[0mi\u001b[0m\u001b[1;33m]\u001b[0m\u001b[1;33m\u001b[0m\u001b[1;33m\u001b[0m\u001b[0m\n\u001b[0;32m   4374\u001b[0m \u001b[1;33m\u001b[0m\u001b[0m\n\u001b[0;32m   4375\u001b[0m         \u001b[1;32mif\u001b[0m \u001b[0mself\u001b[0m\u001b[1;33m.\u001b[0m\u001b[0mcolumns\u001b[0m\u001b[1;33m.\u001b[0m\u001b[0mis_unique\u001b[0m\u001b[1;33m:\u001b[0m\u001b[1;33m\u001b[0m\u001b[1;33m\u001b[0m\u001b[0m\n\u001b[0;32m   4376\u001b[0m             \u001b[1;32mif\u001b[0m \u001b[0mnp\u001b[0m\u001b[1;33m.\u001b[0m\u001b[0mshape\u001b[0m\u001b[1;33m(\u001b[0m\u001b[0mvalue\u001b[0m\u001b[1;33m)\u001b[0m\u001b[1;33m[\u001b[0m\u001b[1;33m-\u001b[0m\u001b[1;36m1\u001b[0m\u001b[1;33m]\u001b[0m \u001b[1;33m!=\u001b[0m \u001b[0mlen\u001b[0m\u001b[1;33m(\u001b[0m\u001b[0mkey\u001b[0m\u001b[1;33m)\u001b[0m\u001b[1;33m:\u001b[0m\u001b[1;33m\u001b[0m\u001b[1;33m\u001b[0m\u001b[0m\n\u001b[1;32m-> 4377\u001b[1;33m                 \u001b[1;32mraise\u001b[0m \u001b[0mValueError\u001b[0m\u001b[1;33m(\u001b[0m\u001b[1;34m\"Columns must be same length as key\"\u001b[0m\u001b[1;33m)\u001b[0m\u001b[1;33m\u001b[0m\u001b[1;33m\u001b[0m\u001b[0m\n\u001b[0m\u001b[0;32m   4378\u001b[0m \u001b[1;33m\u001b[0m\u001b[0m\n\u001b[0;32m   4379\u001b[0m             \u001b[1;32mfor\u001b[0m \u001b[0mi\u001b[0m\u001b[1;33m,\u001b[0m \u001b[0mcol\u001b[0m \u001b[1;32min\u001b[0m \u001b[0menumerate\u001b[0m\u001b[1;33m(\u001b[0m\u001b[0mkey\u001b[0m\u001b[1;33m)\u001b[0m\u001b[1;33m:\u001b[0m\u001b[1;33m\u001b[0m\u001b[1;33m\u001b[0m\u001b[0m\n\u001b[0;32m   4380\u001b[0m                 \u001b[0mself\u001b[0m\u001b[1;33m[\u001b[0m\u001b[0mcol\u001b[0m\u001b[1;33m]\u001b[0m \u001b[1;33m=\u001b[0m \u001b[0migetitem\u001b[0m\u001b[1;33m(\u001b[0m\u001b[0mvalue\u001b[0m\u001b[1;33m,\u001b[0m \u001b[0mi\u001b[0m\u001b[1;33m)\u001b[0m\u001b[1;33m\u001b[0m\u001b[1;33m\u001b[0m\u001b[0m\n",
      "\u001b[1;31mValueError\u001b[0m: Columns must be same length as key"
     ]
    }
   ],
   "source": [
    "from sklearn.preprocessing import LabelEncoder\n",
    "\n",
    "cols = ['Year','Month']\n",
    "label_encoder= LabelEncoder()\n",
    "for col in cols:\n",
    "    data[cols]=label_encoder.fit_transform(data[col])"
   ]
  },
  {
   "cell_type": "code",
   "execution_count": 20,
   "id": "9630e062-1221-4104-bc31-62aa31bd4ec2",
   "metadata": {},
   "outputs": [],
   "source": [
    "from sklearn.preprocessing import LabelEncoder\n",
    "\n",
    "label_encoder = LabelEncoder()\n",
    "cols = ['Year', 'Month']\n",
    "\n",
    "for col in cols:\n",
    "    data[col] = label_encoder.fit_transform(data[col])\n"
   ]
  },
  {
   "cell_type": "code",
   "execution_count": 24,
   "id": "25db2dc9-021a-4154-aeb3-1f3628e362ff",
   "metadata": {},
   "outputs": [
    {
     "ename": "KeyError",
     "evalue": "\"None of [Index(['Transaction_Type', 'Payment_Gateway', 'Transaction_State',\\n       'Merchant_Category'],\\n      dtype='object')] are in the [columns]\"",
     "output_type": "error",
     "traceback": [
      "\u001b[1;31m---------------------------------------------------------------------------\u001b[0m",
      "\u001b[1;31mKeyError\u001b[0m                                  Traceback (most recent call last)",
      "Cell \u001b[1;32mIn[24], line 5\u001b[0m\n\u001b[0;32m      2\u001b[0m non_ordinal\u001b[38;5;241m=\u001b[39m[\u001b[38;5;124m'\u001b[39m\u001b[38;5;124mTransaction_Type\u001b[39m\u001b[38;5;124m'\u001b[39m,\u001b[38;5;124m'\u001b[39m\u001b[38;5;124mPayment_Gateway\u001b[39m\u001b[38;5;124m'\u001b[39m,\u001b[38;5;124m'\u001b[39m\u001b[38;5;124mTransaction_State\u001b[39m\u001b[38;5;124m'\u001b[39m,\u001b[38;5;124m'\u001b[39m\u001b[38;5;124mMerchant_Category\u001b[39m\u001b[38;5;124m'\u001b[39m]\n\u001b[0;32m      4\u001b[0m \u001b[38;5;66;03m#performing one hot encoding for non_ordinal variables\u001b[39;00m\n\u001b[1;32m----> 5\u001b[0m data\u001b[38;5;241m=\u001b[39m\u001b[43mpd\u001b[49m\u001b[38;5;241;43m.\u001b[39;49m\u001b[43mget_dummies\u001b[49m\u001b[43m(\u001b[49m\u001b[43mdata\u001b[49m\u001b[43m,\u001b[49m\u001b[43mcolumns\u001b[49m\u001b[38;5;241;43m=\u001b[39;49m\u001b[43mnon_ordinal\u001b[49m\u001b[43m,\u001b[49m\u001b[43mdrop_first\u001b[49m\u001b[38;5;241;43m=\u001b[39;49m\u001b[38;5;28;43;01mTrue\u001b[39;49;00m\u001b[43m)\u001b[49m\n\u001b[0;32m      7\u001b[0m \u001b[38;5;66;03m#convert boolean columns to integers\u001b[39;00m\n\u001b[0;32m      8\u001b[0m data\u001b[38;5;241m=\u001b[39mdata\u001b[38;5;241m.\u001b[39mastype(\u001b[38;5;28mint\u001b[39m)\n",
      "File \u001b[1;32mC:\\Program Files\\Python313\\Lib\\site-packages\\pandas\\core\\reshape\\encoding.py:169\u001b[0m, in \u001b[0;36mget_dummies\u001b[1;34m(data, prefix, prefix_sep, dummy_na, columns, sparse, drop_first, dtype)\u001b[0m\n\u001b[0;32m    167\u001b[0m     \u001b[38;5;28;01mraise\u001b[39;00m \u001b[38;5;167;01mTypeError\u001b[39;00m(\u001b[38;5;124m\"\u001b[39m\u001b[38;5;124mInput must be a list-like for parameter `columns`\u001b[39m\u001b[38;5;124m\"\u001b[39m)\n\u001b[0;32m    168\u001b[0m \u001b[38;5;28;01melse\u001b[39;00m:\n\u001b[1;32m--> 169\u001b[0m     data_to_encode \u001b[38;5;241m=\u001b[39m \u001b[43mdata\u001b[49m\u001b[43m[\u001b[49m\u001b[43mcolumns\u001b[49m\u001b[43m]\u001b[49m\n\u001b[0;32m    171\u001b[0m \u001b[38;5;66;03m# validate prefixes and separator to avoid silently dropping cols\u001b[39;00m\n\u001b[0;32m    172\u001b[0m \u001b[38;5;28;01mdef\u001b[39;00m \u001b[38;5;21mcheck_len\u001b[39m(item, name: \u001b[38;5;28mstr\u001b[39m):\n",
      "File \u001b[1;32mC:\\Program Files\\Python313\\Lib\\site-packages\\pandas\\core\\frame.py:4108\u001b[0m, in \u001b[0;36mDataFrame.__getitem__\u001b[1;34m(self, key)\u001b[0m\n\u001b[0;32m   4106\u001b[0m     \u001b[38;5;28;01mif\u001b[39;00m is_iterator(key):\n\u001b[0;32m   4107\u001b[0m         key \u001b[38;5;241m=\u001b[39m \u001b[38;5;28mlist\u001b[39m(key)\n\u001b[1;32m-> 4108\u001b[0m     indexer \u001b[38;5;241m=\u001b[39m \u001b[38;5;28;43mself\u001b[39;49m\u001b[38;5;241;43m.\u001b[39;49m\u001b[43mcolumns\u001b[49m\u001b[38;5;241;43m.\u001b[39;49m\u001b[43m_get_indexer_strict\u001b[49m\u001b[43m(\u001b[49m\u001b[43mkey\u001b[49m\u001b[43m,\u001b[49m\u001b[43m \u001b[49m\u001b[38;5;124;43m\"\u001b[39;49m\u001b[38;5;124;43mcolumns\u001b[39;49m\u001b[38;5;124;43m\"\u001b[39;49m\u001b[43m)\u001b[49m[\u001b[38;5;241m1\u001b[39m]\n\u001b[0;32m   4110\u001b[0m \u001b[38;5;66;03m# take() does not accept boolean indexers\u001b[39;00m\n\u001b[0;32m   4111\u001b[0m \u001b[38;5;28;01mif\u001b[39;00m \u001b[38;5;28mgetattr\u001b[39m(indexer, \u001b[38;5;124m\"\u001b[39m\u001b[38;5;124mdtype\u001b[39m\u001b[38;5;124m\"\u001b[39m, \u001b[38;5;28;01mNone\u001b[39;00m) \u001b[38;5;241m==\u001b[39m \u001b[38;5;28mbool\u001b[39m:\n",
      "File \u001b[1;32mC:\\Program Files\\Python313\\Lib\\site-packages\\pandas\\core\\indexes\\base.py:6200\u001b[0m, in \u001b[0;36mIndex._get_indexer_strict\u001b[1;34m(self, key, axis_name)\u001b[0m\n\u001b[0;32m   6197\u001b[0m \u001b[38;5;28;01melse\u001b[39;00m:\n\u001b[0;32m   6198\u001b[0m     keyarr, indexer, new_indexer \u001b[38;5;241m=\u001b[39m \u001b[38;5;28mself\u001b[39m\u001b[38;5;241m.\u001b[39m_reindex_non_unique(keyarr)\n\u001b[1;32m-> 6200\u001b[0m \u001b[38;5;28;43mself\u001b[39;49m\u001b[38;5;241;43m.\u001b[39;49m\u001b[43m_raise_if_missing\u001b[49m\u001b[43m(\u001b[49m\u001b[43mkeyarr\u001b[49m\u001b[43m,\u001b[49m\u001b[43m \u001b[49m\u001b[43mindexer\u001b[49m\u001b[43m,\u001b[49m\u001b[43m \u001b[49m\u001b[43maxis_name\u001b[49m\u001b[43m)\u001b[49m\n\u001b[0;32m   6202\u001b[0m keyarr \u001b[38;5;241m=\u001b[39m \u001b[38;5;28mself\u001b[39m\u001b[38;5;241m.\u001b[39mtake(indexer)\n\u001b[0;32m   6203\u001b[0m \u001b[38;5;28;01mif\u001b[39;00m \u001b[38;5;28misinstance\u001b[39m(key, Index):\n\u001b[0;32m   6204\u001b[0m     \u001b[38;5;66;03m# GH 42790 - Preserve name from an Index\u001b[39;00m\n",
      "File \u001b[1;32mC:\\Program Files\\Python313\\Lib\\site-packages\\pandas\\core\\indexes\\base.py:6249\u001b[0m, in \u001b[0;36mIndex._raise_if_missing\u001b[1;34m(self, key, indexer, axis_name)\u001b[0m\n\u001b[0;32m   6247\u001b[0m \u001b[38;5;28;01mif\u001b[39;00m nmissing:\n\u001b[0;32m   6248\u001b[0m     \u001b[38;5;28;01mif\u001b[39;00m nmissing \u001b[38;5;241m==\u001b[39m \u001b[38;5;28mlen\u001b[39m(indexer):\n\u001b[1;32m-> 6249\u001b[0m         \u001b[38;5;28;01mraise\u001b[39;00m \u001b[38;5;167;01mKeyError\u001b[39;00m(\u001b[38;5;124mf\u001b[39m\u001b[38;5;124m\"\u001b[39m\u001b[38;5;124mNone of [\u001b[39m\u001b[38;5;132;01m{\u001b[39;00mkey\u001b[38;5;132;01m}\u001b[39;00m\u001b[38;5;124m] are in the [\u001b[39m\u001b[38;5;132;01m{\u001b[39;00maxis_name\u001b[38;5;132;01m}\u001b[39;00m\u001b[38;5;124m]\u001b[39m\u001b[38;5;124m\"\u001b[39m)\n\u001b[0;32m   6251\u001b[0m     not_found \u001b[38;5;241m=\u001b[39m \u001b[38;5;28mlist\u001b[39m(ensure_index(key)[missing_mask\u001b[38;5;241m.\u001b[39mnonzero()[\u001b[38;5;241m0\u001b[39m]]\u001b[38;5;241m.\u001b[39munique())\n\u001b[0;32m   6252\u001b[0m     \u001b[38;5;28;01mraise\u001b[39;00m \u001b[38;5;167;01mKeyError\u001b[39;00m(\u001b[38;5;124mf\u001b[39m\u001b[38;5;124m\"\u001b[39m\u001b[38;5;132;01m{\u001b[39;00mnot_found\u001b[38;5;132;01m}\u001b[39;00m\u001b[38;5;124m not in index\u001b[39m\u001b[38;5;124m\"\u001b[39m)\n",
      "\u001b[1;31mKeyError\u001b[0m: \"None of [Index(['Transaction_Type', 'Payment_Gateway', 'Transaction_State',\\n       'Merchant_Category'],\\n      dtype='object')] are in the [columns]\""
     ]
    }
   ],
   "source": [
    "#non ordinal variables\n",
    "non_ordinal=['Transaction_Type','Payment_Gateway','Transaction_State','Merchant_Category']\n",
    "\n",
    "#performing one hot encoding for non_ordinal variables\n",
    "data=pd.get_dummies(data,columns=non_ordinal,drop_first=True)\n",
    "\n",
    "#convert boolean columns to integers\n",
    "data=data.astype(int)"
   ]
  },
  {
   "cell_type": "code",
   "execution_count": 22,
   "id": "59322fa6-4fa4-4020-9c5c-e1e9e6e4d550",
   "metadata": {},
   "outputs": [
    {
     "ename": "KeyError",
     "evalue": "\"None of [Index(['Transaction_Type', 'Payment_Gateway', 'Transaction_State',\\n       'Merchant_Category'],\\n      dtype='object')] are in the [columns]\"",
     "output_type": "error",
     "traceback": [
      "\u001b[1;31m---------------------------------------------------------------------------\u001b[0m",
      "\u001b[1;31mKeyError\u001b[0m                                  Traceback (most recent call last)",
      "Cell \u001b[1;32mIn[22], line 5\u001b[0m\n\u001b[0;32m      2\u001b[0m non_ordinal\u001b[38;5;241m=\u001b[39m[\u001b[38;5;124m'\u001b[39m\u001b[38;5;124mTransaction_Type\u001b[39m\u001b[38;5;124m'\u001b[39m,\u001b[38;5;124m'\u001b[39m\u001b[38;5;124mPayment_Gateway\u001b[39m\u001b[38;5;124m'\u001b[39m,\u001b[38;5;124m'\u001b[39m\u001b[38;5;124mTransaction_State\u001b[39m\u001b[38;5;124m'\u001b[39m,\u001b[38;5;124m'\u001b[39m\u001b[38;5;124mMerchant_Category\u001b[39m\u001b[38;5;124m'\u001b[39m]\n\u001b[0;32m      4\u001b[0m \u001b[38;5;66;03m#performing one hot encoding for non_ordinal variables\u001b[39;00m\n\u001b[1;32m----> 5\u001b[0m data\u001b[38;5;241m=\u001b[39m\u001b[43mpd\u001b[49m\u001b[38;5;241;43m.\u001b[39;49m\u001b[43mget_dummies\u001b[49m\u001b[43m(\u001b[49m\u001b[43mdata\u001b[49m\u001b[43m,\u001b[49m\u001b[43mcolumns\u001b[49m\u001b[38;5;241;43m=\u001b[39;49m\u001b[43mnon_ordinal\u001b[49m\u001b[43m,\u001b[49m\u001b[43mdrop_first\u001b[49m\u001b[38;5;241;43m=\u001b[39;49m\u001b[38;5;28;43;01mTrue\u001b[39;49;00m\u001b[43m)\u001b[49m\n\u001b[0;32m      7\u001b[0m \u001b[38;5;66;03m# Only convert boolean columns to int\u001b[39;00m\n\u001b[0;32m      8\u001b[0m \u001b[38;5;28;01mfor\u001b[39;00m col \u001b[38;5;129;01min\u001b[39;00m data\u001b[38;5;241m.\u001b[39mselect_dtypes(include\u001b[38;5;241m=\u001b[39m\u001b[38;5;124m'\u001b[39m\u001b[38;5;124mbool\u001b[39m\u001b[38;5;124m'\u001b[39m)\u001b[38;5;241m.\u001b[39mcolumns:\n",
      "File \u001b[1;32mC:\\Program Files\\Python313\\Lib\\site-packages\\pandas\\core\\reshape\\encoding.py:169\u001b[0m, in \u001b[0;36mget_dummies\u001b[1;34m(data, prefix, prefix_sep, dummy_na, columns, sparse, drop_first, dtype)\u001b[0m\n\u001b[0;32m    167\u001b[0m     \u001b[38;5;28;01mraise\u001b[39;00m \u001b[38;5;167;01mTypeError\u001b[39;00m(\u001b[38;5;124m\"\u001b[39m\u001b[38;5;124mInput must be a list-like for parameter `columns`\u001b[39m\u001b[38;5;124m\"\u001b[39m)\n\u001b[0;32m    168\u001b[0m \u001b[38;5;28;01melse\u001b[39;00m:\n\u001b[1;32m--> 169\u001b[0m     data_to_encode \u001b[38;5;241m=\u001b[39m \u001b[43mdata\u001b[49m\u001b[43m[\u001b[49m\u001b[43mcolumns\u001b[49m\u001b[43m]\u001b[49m\n\u001b[0;32m    171\u001b[0m \u001b[38;5;66;03m# validate prefixes and separator to avoid silently dropping cols\u001b[39;00m\n\u001b[0;32m    172\u001b[0m \u001b[38;5;28;01mdef\u001b[39;00m \u001b[38;5;21mcheck_len\u001b[39m(item, name: \u001b[38;5;28mstr\u001b[39m):\n",
      "File \u001b[1;32mC:\\Program Files\\Python313\\Lib\\site-packages\\pandas\\core\\frame.py:4108\u001b[0m, in \u001b[0;36mDataFrame.__getitem__\u001b[1;34m(self, key)\u001b[0m\n\u001b[0;32m   4106\u001b[0m     \u001b[38;5;28;01mif\u001b[39;00m is_iterator(key):\n\u001b[0;32m   4107\u001b[0m         key \u001b[38;5;241m=\u001b[39m \u001b[38;5;28mlist\u001b[39m(key)\n\u001b[1;32m-> 4108\u001b[0m     indexer \u001b[38;5;241m=\u001b[39m \u001b[38;5;28;43mself\u001b[39;49m\u001b[38;5;241;43m.\u001b[39;49m\u001b[43mcolumns\u001b[49m\u001b[38;5;241;43m.\u001b[39;49m\u001b[43m_get_indexer_strict\u001b[49m\u001b[43m(\u001b[49m\u001b[43mkey\u001b[49m\u001b[43m,\u001b[49m\u001b[43m \u001b[49m\u001b[38;5;124;43m\"\u001b[39;49m\u001b[38;5;124;43mcolumns\u001b[39;49m\u001b[38;5;124;43m\"\u001b[39;49m\u001b[43m)\u001b[49m[\u001b[38;5;241m1\u001b[39m]\n\u001b[0;32m   4110\u001b[0m \u001b[38;5;66;03m# take() does not accept boolean indexers\u001b[39;00m\n\u001b[0;32m   4111\u001b[0m \u001b[38;5;28;01mif\u001b[39;00m \u001b[38;5;28mgetattr\u001b[39m(indexer, \u001b[38;5;124m\"\u001b[39m\u001b[38;5;124mdtype\u001b[39m\u001b[38;5;124m\"\u001b[39m, \u001b[38;5;28;01mNone\u001b[39;00m) \u001b[38;5;241m==\u001b[39m \u001b[38;5;28mbool\u001b[39m:\n",
      "File \u001b[1;32mC:\\Program Files\\Python313\\Lib\\site-packages\\pandas\\core\\indexes\\base.py:6200\u001b[0m, in \u001b[0;36mIndex._get_indexer_strict\u001b[1;34m(self, key, axis_name)\u001b[0m\n\u001b[0;32m   6197\u001b[0m \u001b[38;5;28;01melse\u001b[39;00m:\n\u001b[0;32m   6198\u001b[0m     keyarr, indexer, new_indexer \u001b[38;5;241m=\u001b[39m \u001b[38;5;28mself\u001b[39m\u001b[38;5;241m.\u001b[39m_reindex_non_unique(keyarr)\n\u001b[1;32m-> 6200\u001b[0m \u001b[38;5;28;43mself\u001b[39;49m\u001b[38;5;241;43m.\u001b[39;49m\u001b[43m_raise_if_missing\u001b[49m\u001b[43m(\u001b[49m\u001b[43mkeyarr\u001b[49m\u001b[43m,\u001b[49m\u001b[43m \u001b[49m\u001b[43mindexer\u001b[49m\u001b[43m,\u001b[49m\u001b[43m \u001b[49m\u001b[43maxis_name\u001b[49m\u001b[43m)\u001b[49m\n\u001b[0;32m   6202\u001b[0m keyarr \u001b[38;5;241m=\u001b[39m \u001b[38;5;28mself\u001b[39m\u001b[38;5;241m.\u001b[39mtake(indexer)\n\u001b[0;32m   6203\u001b[0m \u001b[38;5;28;01mif\u001b[39;00m \u001b[38;5;28misinstance\u001b[39m(key, Index):\n\u001b[0;32m   6204\u001b[0m     \u001b[38;5;66;03m# GH 42790 - Preserve name from an Index\u001b[39;00m\n",
      "File \u001b[1;32mC:\\Program Files\\Python313\\Lib\\site-packages\\pandas\\core\\indexes\\base.py:6249\u001b[0m, in \u001b[0;36mIndex._raise_if_missing\u001b[1;34m(self, key, indexer, axis_name)\u001b[0m\n\u001b[0;32m   6247\u001b[0m \u001b[38;5;28;01mif\u001b[39;00m nmissing:\n\u001b[0;32m   6248\u001b[0m     \u001b[38;5;28;01mif\u001b[39;00m nmissing \u001b[38;5;241m==\u001b[39m \u001b[38;5;28mlen\u001b[39m(indexer):\n\u001b[1;32m-> 6249\u001b[0m         \u001b[38;5;28;01mraise\u001b[39;00m \u001b[38;5;167;01mKeyError\u001b[39;00m(\u001b[38;5;124mf\u001b[39m\u001b[38;5;124m\"\u001b[39m\u001b[38;5;124mNone of [\u001b[39m\u001b[38;5;132;01m{\u001b[39;00mkey\u001b[38;5;132;01m}\u001b[39;00m\u001b[38;5;124m] are in the [\u001b[39m\u001b[38;5;132;01m{\u001b[39;00maxis_name\u001b[38;5;132;01m}\u001b[39;00m\u001b[38;5;124m]\u001b[39m\u001b[38;5;124m\"\u001b[39m)\n\u001b[0;32m   6251\u001b[0m     not_found \u001b[38;5;241m=\u001b[39m \u001b[38;5;28mlist\u001b[39m(ensure_index(key)[missing_mask\u001b[38;5;241m.\u001b[39mnonzero()[\u001b[38;5;241m0\u001b[39m]]\u001b[38;5;241m.\u001b[39munique())\n\u001b[0;32m   6252\u001b[0m     \u001b[38;5;28;01mraise\u001b[39;00m \u001b[38;5;167;01mKeyError\u001b[39;00m(\u001b[38;5;124mf\u001b[39m\u001b[38;5;124m\"\u001b[39m\u001b[38;5;132;01m{\u001b[39;00mnot_found\u001b[38;5;132;01m}\u001b[39;00m\u001b[38;5;124m not in index\u001b[39m\u001b[38;5;124m\"\u001b[39m)\n",
      "\u001b[1;31mKeyError\u001b[0m: \"None of [Index(['Transaction_Type', 'Payment_Gateway', 'Transaction_State',\\n       'Merchant_Category'],\\n      dtype='object')] are in the [columns]\""
     ]
    }
   ],
   "source": [
    "#non ordinal variables\n",
    "non_ordinal=['Transaction_Type','Payment_Gateway','Transaction_State','Merchant_Category']\n",
    "\n",
    "#performing one hot encoding for non_ordinal variables\n",
    "data=pd.get_dummies(data,columns=non_ordinal,drop_first=True)\n",
    "\n",
    "# Only convert boolean columns to int\n",
    "for col in data.select_dtypes(include='bool').columns:\n",
    "    data[col] = data[col].astype(int)\n",
    "\n"
   ]
  },
  {
   "cell_type": "code",
   "execution_count": 23,
   "id": "6c824715-640b-4190-a1fc-0b9abc89d3f3",
   "metadata": {},
   "outputs": [
    {
     "name": "stdout",
     "output_type": "stream",
     "text": [
      "Available columns in data:\n",
      "Index(['Merchant_ID', 'IP_Address', 'amount', 'fraud', 'Year', 'Month',\n",
      "       'Transaction_Type_Bill Payment', 'Transaction_Type_Investment',\n",
      "       'Transaction_Type_Other', 'Transaction_Type_Purchase',\n",
      "       'Transaction_Type_Refund', 'Transaction_Type_Subscription',\n",
      "       'Payment_Gateway_Bank of Data', 'Payment_Gateway_CReditPAY',\n",
      "       'Payment_Gateway_Dummy Bank', 'Payment_Gateway_Gamma Bank',\n",
      "       'Payment_Gateway_Other', 'Payment_Gateway_SamplePay',\n",
      "       'Payment_Gateway_Sigma Bank', 'Payment_Gateway_UPI Pay',\n",
      "       'Transaction_State_Arunachal Pradesh', 'Transaction_State_Assam',\n",
      "       'Transaction_State_Bihar', 'Transaction_State_Chhattisgarh',\n",
      "       'Transaction_State_Goa', 'Transaction_State_Gujarat',\n",
      "       'Transaction_State_Haryana', 'Transaction_State_Himachal Pradesh',\n",
      "       'Transaction_State_Jharkhand', 'Transaction_State_Karnataka',\n",
      "       'Transaction_State_Kerala', 'Transaction_State_Madhya Pradesh',\n",
      "       'Transaction_State_Maharashtra', 'Transaction_State_Manipur',\n",
      "       'Transaction_State_Meghalaya', 'Transaction_State_Mizoram',\n",
      "       'Transaction_State_Nagaland', 'Transaction_State_Odisha',\n",
      "       'Transaction_State_Punjab', 'Transaction_State_Rajasthan',\n",
      "       'Transaction_State_Sikkim', 'Transaction_State_Tamil Nadu',\n",
      "       'Transaction_State_Telangana', 'Transaction_State_Tripura',\n",
      "       'Transaction_State_Uttar Pradesh', 'Transaction_State_Uttarakhand',\n",
      "       'Transaction_State_West Bengal',\n",
      "       'Merchant_Category_Donations and Devotion',\n",
      "       'Merchant_Category_Financial services and Taxes',\n",
      "       'Merchant_Category_Home delivery', 'Merchant_Category_Investment',\n",
      "       'Merchant_Category_More Services', 'Merchant_Category_Other',\n",
      "       'Merchant_Category_Purchases', 'Merchant_Category_Travel bookings',\n",
      "       'Merchant_Category_Utilities'],\n",
      "      dtype='object')\n",
      "Missing columns:\n",
      "['Transaction_Type', 'Payment_Gateway', 'Transaction_State', 'Merchant_Category']\n"
     ]
    }
   ],
   "source": [
    "print(\"Available columns in data:\")\n",
    "print(data.columns)\n",
    "\n",
    "print(\"Missing columns:\")\n",
    "print([col for col in non_ordinal if col not in data.columns])\n"
   ]
  },
  {
   "cell_type": "code",
   "execution_count": 25,
   "id": "c66714d5-fb68-4359-929b-aa9c5b666bf4",
   "metadata": {},
   "outputs": [
    {
     "name": "stdout",
     "output_type": "stream",
     "text": [
      "<class 'pandas.core.frame.DataFrame'>\n",
      "RangeIndex: 647 entries, 0 to 646\n",
      "Data columns (total 10 columns):\n",
      " #   Column             Non-Null Count  Dtype  \n",
      "---  ------             --------------  -----  \n",
      " 0   Merchant_ID        647 non-null    object \n",
      " 1   Transaction_Type   647 non-null    object \n",
      " 2   Payment_Gateway    647 non-null    object \n",
      " 3   Transaction_State  647 non-null    object \n",
      " 4   IP_Address         647 non-null    object \n",
      " 5   Merchant_Category  647 non-null    object \n",
      " 6   amount             647 non-null    float64\n",
      " 7   fraud              647 non-null    int64  \n",
      " 8   Year               647 non-null    int32  \n",
      " 9   Month              647 non-null    object \n",
      "dtypes: float64(1), int32(1), int64(1), object(7)\n",
      "memory usage: 48.1+ KB\n"
     ]
    }
   ],
   "source": [
    "df.info()"
   ]
  },
  {
   "cell_type": "code",
   "execution_count": 26,
   "id": "8b1c5272-4d95-470e-b273-d8b03b43b2fe",
   "metadata": {},
   "outputs": [
    {
     "name": "stdout",
     "output_type": "stream",
     "text": [
      "<class 'pandas.core.frame.DataFrame'>\n",
      "RangeIndex: 647 entries, 0 to 646\n",
      "Data columns (total 56 columns):\n",
      " #   Column                                          Non-Null Count  Dtype  \n",
      "---  ------                                          --------------  -----  \n",
      " 0   Merchant_ID                                     647 non-null    object \n",
      " 1   IP_Address                                      647 non-null    object \n",
      " 2   amount                                          647 non-null    float64\n",
      " 3   fraud                                           647 non-null    int64  \n",
      " 4   Year                                            647 non-null    int64  \n",
      " 5   Month                                           647 non-null    int64  \n",
      " 6   Transaction_Type_Bill Payment                   647 non-null    bool   \n",
      " 7   Transaction_Type_Investment                     647 non-null    bool   \n",
      " 8   Transaction_Type_Other                          647 non-null    bool   \n",
      " 9   Transaction_Type_Purchase                       647 non-null    bool   \n",
      " 10  Transaction_Type_Refund                         647 non-null    bool   \n",
      " 11  Transaction_Type_Subscription                   647 non-null    bool   \n",
      " 12  Payment_Gateway_Bank of Data                    647 non-null    bool   \n",
      " 13  Payment_Gateway_CReditPAY                       647 non-null    bool   \n",
      " 14  Payment_Gateway_Dummy Bank                      647 non-null    bool   \n",
      " 15  Payment_Gateway_Gamma Bank                      647 non-null    bool   \n",
      " 16  Payment_Gateway_Other                           647 non-null    bool   \n",
      " 17  Payment_Gateway_SamplePay                       647 non-null    bool   \n",
      " 18  Payment_Gateway_Sigma Bank                      647 non-null    bool   \n",
      " 19  Payment_Gateway_UPI Pay                         647 non-null    bool   \n",
      " 20  Transaction_State_Arunachal Pradesh             647 non-null    bool   \n",
      " 21  Transaction_State_Assam                         647 non-null    bool   \n",
      " 22  Transaction_State_Bihar                         647 non-null    bool   \n",
      " 23  Transaction_State_Chhattisgarh                  647 non-null    bool   \n",
      " 24  Transaction_State_Goa                           647 non-null    bool   \n",
      " 25  Transaction_State_Gujarat                       647 non-null    bool   \n",
      " 26  Transaction_State_Haryana                       647 non-null    bool   \n",
      " 27  Transaction_State_Himachal Pradesh              647 non-null    bool   \n",
      " 28  Transaction_State_Jharkhand                     647 non-null    bool   \n",
      " 29  Transaction_State_Karnataka                     647 non-null    bool   \n",
      " 30  Transaction_State_Kerala                        647 non-null    bool   \n",
      " 31  Transaction_State_Madhya Pradesh                647 non-null    bool   \n",
      " 32  Transaction_State_Maharashtra                   647 non-null    bool   \n",
      " 33  Transaction_State_Manipur                       647 non-null    bool   \n",
      " 34  Transaction_State_Meghalaya                     647 non-null    bool   \n",
      " 35  Transaction_State_Mizoram                       647 non-null    bool   \n",
      " 36  Transaction_State_Nagaland                      647 non-null    bool   \n",
      " 37  Transaction_State_Odisha                        647 non-null    bool   \n",
      " 38  Transaction_State_Punjab                        647 non-null    bool   \n",
      " 39  Transaction_State_Rajasthan                     647 non-null    bool   \n",
      " 40  Transaction_State_Sikkim                        647 non-null    bool   \n",
      " 41  Transaction_State_Tamil Nadu                    647 non-null    bool   \n",
      " 42  Transaction_State_Telangana                     647 non-null    bool   \n",
      " 43  Transaction_State_Tripura                       647 non-null    bool   \n",
      " 44  Transaction_State_Uttar Pradesh                 647 non-null    bool   \n",
      " 45  Transaction_State_Uttarakhand                   647 non-null    bool   \n",
      " 46  Transaction_State_West Bengal                   647 non-null    bool   \n",
      " 47  Merchant_Category_Donations and Devotion        647 non-null    bool   \n",
      " 48  Merchant_Category_Financial services and Taxes  647 non-null    bool   \n",
      " 49  Merchant_Category_Home delivery                 647 non-null    bool   \n",
      " 50  Merchant_Category_Investment                    647 non-null    bool   \n",
      " 51  Merchant_Category_More Services                 647 non-null    bool   \n",
      " 52  Merchant_Category_Other                         647 non-null    bool   \n",
      " 53  Merchant_Category_Purchases                     647 non-null    bool   \n",
      " 54  Merchant_Category_Travel bookings               647 non-null    bool   \n",
      " 55  Merchant_Category_Utilities                     647 non-null    bool   \n",
      "dtypes: bool(50), float64(1), int64(3), object(2)\n",
      "memory usage: 62.0+ KB\n"
     ]
    }
   ],
   "source": [
    "data.info()"
   ]
  },
  {
   "cell_type": "code",
   "execution_count": 27,
   "id": "fd2284e3-6a6d-4b7a-a0e4-6974907614a4",
   "metadata": {},
   "outputs": [],
   "source": [
    "# Convert boolean columns to int, if any\n",
    "for col in data.select_dtypes(include='bool').columns:\n",
    "    data[col] = data[col].astype(int)\n",
    "\n",
    "# Proceed with model training / analysis\n"
   ]
  },
  {
   "cell_type": "code",
   "execution_count": 28,
   "id": "b60e75e3-71c8-42fc-b22c-44ffd2822748",
   "metadata": {},
   "outputs": [
    {
     "data": {
      "text/html": [
       "<div>\n",
       "<style scoped>\n",
       "    .dataframe tbody tr th:only-of-type {\n",
       "        vertical-align: middle;\n",
       "    }\n",
       "\n",
       "    .dataframe tbody tr th {\n",
       "        vertical-align: top;\n",
       "    }\n",
       "\n",
       "    .dataframe thead th {\n",
       "        text-align: right;\n",
       "    }\n",
       "</style>\n",
       "<table border=\"1\" class=\"dataframe\">\n",
       "  <thead>\n",
       "    <tr style=\"text-align: right;\">\n",
       "      <th></th>\n",
       "      <th>Merchant_ID</th>\n",
       "      <th>IP_Address</th>\n",
       "      <th>amount</th>\n",
       "      <th>fraud</th>\n",
       "      <th>Year</th>\n",
       "      <th>Month</th>\n",
       "      <th>Transaction_Type_Bill Payment</th>\n",
       "      <th>Transaction_Type_Investment</th>\n",
       "      <th>Transaction_Type_Other</th>\n",
       "      <th>Transaction_Type_Purchase</th>\n",
       "      <th>...</th>\n",
       "      <th>Transaction_State_West Bengal</th>\n",
       "      <th>Merchant_Category_Donations and Devotion</th>\n",
       "      <th>Merchant_Category_Financial services and Taxes</th>\n",
       "      <th>Merchant_Category_Home delivery</th>\n",
       "      <th>Merchant_Category_Investment</th>\n",
       "      <th>Merchant_Category_More Services</th>\n",
       "      <th>Merchant_Category_Other</th>\n",
       "      <th>Merchant_Category_Purchases</th>\n",
       "      <th>Merchant_Category_Travel bookings</th>\n",
       "      <th>Merchant_Category_Utilities</th>\n",
       "    </tr>\n",
       "  </thead>\n",
       "  <tbody>\n",
       "    <tr>\n",
       "      <th>0</th>\n",
       "      <td>f65a902b-2396-40cc-9593-97e103f1bc15</td>\n",
       "      <td>140.213.7.48</td>\n",
       "      <td>396.62</td>\n",
       "      <td>1</td>\n",
       "      <td>0</td>\n",
       "      <td>0</td>\n",
       "      <td>0</td>\n",
       "      <td>0</td>\n",
       "      <td>0</td>\n",
       "      <td>0</td>\n",
       "      <td>...</td>\n",
       "      <td>0</td>\n",
       "      <td>0</td>\n",
       "      <td>0</td>\n",
       "      <td>0</td>\n",
       "      <td>0</td>\n",
       "      <td>0</td>\n",
       "      <td>0</td>\n",
       "      <td>0</td>\n",
       "      <td>0</td>\n",
       "      <td>0</td>\n",
       "    </tr>\n",
       "    <tr>\n",
       "      <th>1</th>\n",
       "      <td>d4a5efcb-4eb6-4d3a-8132-07bb3e6e13a4</td>\n",
       "      <td>184.108.177.45</td>\n",
       "      <td>121.94</td>\n",
       "      <td>1</td>\n",
       "      <td>0</td>\n",
       "      <td>1</td>\n",
       "      <td>0</td>\n",
       "      <td>0</td>\n",
       "      <td>0</td>\n",
       "      <td>0</td>\n",
       "      <td>...</td>\n",
       "      <td>0</td>\n",
       "      <td>0</td>\n",
       "      <td>0</td>\n",
       "      <td>1</td>\n",
       "      <td>0</td>\n",
       "      <td>0</td>\n",
       "      <td>0</td>\n",
       "      <td>0</td>\n",
       "      <td>0</td>\n",
       "      <td>0</td>\n",
       "    </tr>\n",
       "    <tr>\n",
       "      <th>2</th>\n",
       "      <td>759ad138-9473-4729-8699-3d72c7ffb983</td>\n",
       "      <td>16.106.248.163</td>\n",
       "      <td>106.69</td>\n",
       "      <td>1</td>\n",
       "      <td>0</td>\n",
       "      <td>6</td>\n",
       "      <td>0</td>\n",
       "      <td>0</td>\n",
       "      <td>0</td>\n",
       "      <td>0</td>\n",
       "      <td>...</td>\n",
       "      <td>0</td>\n",
       "      <td>0</td>\n",
       "      <td>0</td>\n",
       "      <td>0</td>\n",
       "      <td>0</td>\n",
       "      <td>0</td>\n",
       "      <td>0</td>\n",
       "      <td>0</td>\n",
       "      <td>0</td>\n",
       "      <td>1</td>\n",
       "    </tr>\n",
       "    <tr>\n",
       "      <th>3</th>\n",
       "      <td>d8f561e4-bded-4ef0-bcd8-5494b2e31a94</td>\n",
       "      <td>65.245.160.212</td>\n",
       "      <td>3611.11</td>\n",
       "      <td>1</td>\n",
       "      <td>1</td>\n",
       "      <td>4</td>\n",
       "      <td>0</td>\n",
       "      <td>0</td>\n",
       "      <td>0</td>\n",
       "      <td>0</td>\n",
       "      <td>...</td>\n",
       "      <td>0</td>\n",
       "      <td>0</td>\n",
       "      <td>0</td>\n",
       "      <td>0</td>\n",
       "      <td>0</td>\n",
       "      <td>0</td>\n",
       "      <td>0</td>\n",
       "      <td>1</td>\n",
       "      <td>0</td>\n",
       "      <td>0</td>\n",
       "    </tr>\n",
       "    <tr>\n",
       "      <th>4</th>\n",
       "      <td>26fdd7a1-8537-4dfe-bcf7-f5a127b36682</td>\n",
       "      <td>33.172.152.38</td>\n",
       "      <td>374.89</td>\n",
       "      <td>1</td>\n",
       "      <td>0</td>\n",
       "      <td>6</td>\n",
       "      <td>0</td>\n",
       "      <td>1</td>\n",
       "      <td>0</td>\n",
       "      <td>0</td>\n",
       "      <td>...</td>\n",
       "      <td>0</td>\n",
       "      <td>0</td>\n",
       "      <td>0</td>\n",
       "      <td>0</td>\n",
       "      <td>0</td>\n",
       "      <td>0</td>\n",
       "      <td>1</td>\n",
       "      <td>0</td>\n",
       "      <td>0</td>\n",
       "      <td>0</td>\n",
       "    </tr>\n",
       "  </tbody>\n",
       "</table>\n",
       "<p>5 rows × 56 columns</p>\n",
       "</div>"
      ],
      "text/plain": [
       "                            Merchant_ID      IP_Address   amount  fraud  Year  \\\n",
       "0  f65a902b-2396-40cc-9593-97e103f1bc15    140.213.7.48   396.62      1     0   \n",
       "1  d4a5efcb-4eb6-4d3a-8132-07bb3e6e13a4  184.108.177.45   121.94      1     0   \n",
       "2  759ad138-9473-4729-8699-3d72c7ffb983  16.106.248.163   106.69      1     0   \n",
       "3  d8f561e4-bded-4ef0-bcd8-5494b2e31a94  65.245.160.212  3611.11      1     1   \n",
       "4  26fdd7a1-8537-4dfe-bcf7-f5a127b36682   33.172.152.38   374.89      1     0   \n",
       "\n",
       "   Month  Transaction_Type_Bill Payment  Transaction_Type_Investment  \\\n",
       "0      0                              0                            0   \n",
       "1      1                              0                            0   \n",
       "2      6                              0                            0   \n",
       "3      4                              0                            0   \n",
       "4      6                              0                            1   \n",
       "\n",
       "   Transaction_Type_Other  Transaction_Type_Purchase  ...  \\\n",
       "0                       0                          0  ...   \n",
       "1                       0                          0  ...   \n",
       "2                       0                          0  ...   \n",
       "3                       0                          0  ...   \n",
       "4                       0                          0  ...   \n",
       "\n",
       "   Transaction_State_West Bengal  Merchant_Category_Donations and Devotion  \\\n",
       "0                              0                                         0   \n",
       "1                              0                                         0   \n",
       "2                              0                                         0   \n",
       "3                              0                                         0   \n",
       "4                              0                                         0   \n",
       "\n",
       "   Merchant_Category_Financial services and Taxes  \\\n",
       "0                                               0   \n",
       "1                                               0   \n",
       "2                                               0   \n",
       "3                                               0   \n",
       "4                                               0   \n",
       "\n",
       "   Merchant_Category_Home delivery  Merchant_Category_Investment  \\\n",
       "0                                0                             0   \n",
       "1                                1                             0   \n",
       "2                                0                             0   \n",
       "3                                0                             0   \n",
       "4                                0                             0   \n",
       "\n",
       "   Merchant_Category_More Services  Merchant_Category_Other  \\\n",
       "0                                0                        0   \n",
       "1                                0                        0   \n",
       "2                                0                        0   \n",
       "3                                0                        0   \n",
       "4                                0                        1   \n",
       "\n",
       "   Merchant_Category_Purchases  Merchant_Category_Travel bookings  \\\n",
       "0                            0                                  0   \n",
       "1                            0                                  0   \n",
       "2                            0                                  0   \n",
       "3                            1                                  0   \n",
       "4                            0                                  0   \n",
       "\n",
       "   Merchant_Category_Utilities  \n",
       "0                            0  \n",
       "1                            0  \n",
       "2                            1  \n",
       "3                            0  \n",
       "4                            0  \n",
       "\n",
       "[5 rows x 56 columns]"
      ]
     },
     "execution_count": 28,
     "metadata": {},
     "output_type": "execute_result"
    }
   ],
   "source": [
    "data.head()"
   ]
  },
  {
   "cell_type": "code",
   "execution_count": 29,
   "id": "490e9e0b-31e2-4e66-9f66-8b437f00735e",
   "metadata": {},
   "outputs": [
    {
     "data": {
      "text/plain": [
       "Merchant_ID                                        object\n",
       "IP_Address                                         object\n",
       "amount                                            float64\n",
       "fraud                                               int64\n",
       "Year                                                int64\n",
       "Month                                               int64\n",
       "Transaction_Type_Bill Payment                       int64\n",
       "Transaction_Type_Investment                         int64\n",
       "Transaction_Type_Other                              int64\n",
       "Transaction_Type_Purchase                           int64\n",
       "Transaction_Type_Refund                             int64\n",
       "Transaction_Type_Subscription                       int64\n",
       "Payment_Gateway_Bank of Data                        int64\n",
       "Payment_Gateway_CReditPAY                           int64\n",
       "Payment_Gateway_Dummy Bank                          int64\n",
       "Payment_Gateway_Gamma Bank                          int64\n",
       "Payment_Gateway_Other                               int64\n",
       "Payment_Gateway_SamplePay                           int64\n",
       "Payment_Gateway_Sigma Bank                          int64\n",
       "Payment_Gateway_UPI Pay                             int64\n",
       "Transaction_State_Arunachal Pradesh                 int64\n",
       "Transaction_State_Assam                             int64\n",
       "Transaction_State_Bihar                             int64\n",
       "Transaction_State_Chhattisgarh                      int64\n",
       "Transaction_State_Goa                               int64\n",
       "Transaction_State_Gujarat                           int64\n",
       "Transaction_State_Haryana                           int64\n",
       "Transaction_State_Himachal Pradesh                  int64\n",
       "Transaction_State_Jharkhand                         int64\n",
       "Transaction_State_Karnataka                         int64\n",
       "Transaction_State_Kerala                            int64\n",
       "Transaction_State_Madhya Pradesh                    int64\n",
       "Transaction_State_Maharashtra                       int64\n",
       "Transaction_State_Manipur                           int64\n",
       "Transaction_State_Meghalaya                         int64\n",
       "Transaction_State_Mizoram                           int64\n",
       "Transaction_State_Nagaland                          int64\n",
       "Transaction_State_Odisha                            int64\n",
       "Transaction_State_Punjab                            int64\n",
       "Transaction_State_Rajasthan                         int64\n",
       "Transaction_State_Sikkim                            int64\n",
       "Transaction_State_Tamil Nadu                        int64\n",
       "Transaction_State_Telangana                         int64\n",
       "Transaction_State_Tripura                           int64\n",
       "Transaction_State_Uttar Pradesh                     int64\n",
       "Transaction_State_Uttarakhand                       int64\n",
       "Transaction_State_West Bengal                       int64\n",
       "Merchant_Category_Donations and Devotion            int64\n",
       "Merchant_Category_Financial services and Taxes      int64\n",
       "Merchant_Category_Home delivery                     int64\n",
       "Merchant_Category_Investment                        int64\n",
       "Merchant_Category_More Services                     int64\n",
       "Merchant_Category_Other                             int64\n",
       "Merchant_Category_Purchases                         int64\n",
       "Merchant_Category_Travel bookings                   int64\n",
       "Merchant_Category_Utilities                         int64\n",
       "dtype: object"
      ]
     },
     "execution_count": 29,
     "metadata": {},
     "output_type": "execute_result"
    }
   ],
   "source": [
    "data.dtypes"
   ]
  },
  {
   "cell_type": "code",
   "execution_count": 30,
   "id": "8922bf71-33ec-45ed-b497-69d47061dc18",
   "metadata": {},
   "outputs": [],
   "source": [
    "# Drop Merchant_ID and IP_Address\n",
    "data.drop(columns=['Merchant_ID', 'IP_Address'], inplace=True)\n",
    "\n",
    "# Convert 'amount' to int64 (removes decimal places)\n",
    "data['amount'] = data['amount'].astype(int)\n",
    "\n",
    "\n",
    "\n"
   ]
  },
  {
   "cell_type": "code",
   "execution_count": 31,
   "id": "feb9bb42-ba09-4853-9cab-0415316729fc",
   "metadata": {},
   "outputs": [
    {
     "name": "stdout",
     "output_type": "stream",
     "text": [
      "amount                                            int64\n",
      "fraud                                             int64\n",
      "Year                                              int64\n",
      "Month                                             int64\n",
      "Transaction_Type_Bill Payment                     int64\n",
      "Transaction_Type_Investment                       int64\n",
      "Transaction_Type_Other                            int64\n",
      "Transaction_Type_Purchase                         int64\n",
      "Transaction_Type_Refund                           int64\n",
      "Transaction_Type_Subscription                     int64\n",
      "Payment_Gateway_Bank of Data                      int64\n",
      "Payment_Gateway_CReditPAY                         int64\n",
      "Payment_Gateway_Dummy Bank                        int64\n",
      "Payment_Gateway_Gamma Bank                        int64\n",
      "Payment_Gateway_Other                             int64\n",
      "Payment_Gateway_SamplePay                         int64\n",
      "Payment_Gateway_Sigma Bank                        int64\n",
      "Payment_Gateway_UPI Pay                           int64\n",
      "Transaction_State_Arunachal Pradesh               int64\n",
      "Transaction_State_Assam                           int64\n",
      "Transaction_State_Bihar                           int64\n",
      "Transaction_State_Chhattisgarh                    int64\n",
      "Transaction_State_Goa                             int64\n",
      "Transaction_State_Gujarat                         int64\n",
      "Transaction_State_Haryana                         int64\n",
      "Transaction_State_Himachal Pradesh                int64\n",
      "Transaction_State_Jharkhand                       int64\n",
      "Transaction_State_Karnataka                       int64\n",
      "Transaction_State_Kerala                          int64\n",
      "Transaction_State_Madhya Pradesh                  int64\n",
      "Transaction_State_Maharashtra                     int64\n",
      "Transaction_State_Manipur                         int64\n",
      "Transaction_State_Meghalaya                       int64\n",
      "Transaction_State_Mizoram                         int64\n",
      "Transaction_State_Nagaland                        int64\n",
      "Transaction_State_Odisha                          int64\n",
      "Transaction_State_Punjab                          int64\n",
      "Transaction_State_Rajasthan                       int64\n",
      "Transaction_State_Sikkim                          int64\n",
      "Transaction_State_Tamil Nadu                      int64\n",
      "Transaction_State_Telangana                       int64\n",
      "Transaction_State_Tripura                         int64\n",
      "Transaction_State_Uttar Pradesh                   int64\n",
      "Transaction_State_Uttarakhand                     int64\n",
      "Transaction_State_West Bengal                     int64\n",
      "Merchant_Category_Donations and Devotion          int64\n",
      "Merchant_Category_Financial services and Taxes    int64\n",
      "Merchant_Category_Home delivery                   int64\n",
      "Merchant_Category_Investment                      int64\n",
      "Merchant_Category_More Services                   int64\n",
      "Merchant_Category_Other                           int64\n",
      "Merchant_Category_Purchases                       int64\n",
      "Merchant_Category_Travel bookings                 int64\n",
      "Merchant_Category_Utilities                       int64\n",
      "dtype: object\n"
     ]
    }
   ],
   "source": [
    "print(data.dtypes)"
   ]
  },
  {
   "cell_type": "markdown",
   "id": "cbc103af-122c-4fde-a4d8-2b0a0fa40394",
   "metadata": {},
   "source": [
    "### To improve the computational efficiency,taking 50% of entire data for model building and testing keeping the ratio intact"
   ]
  },
  {
   "cell_type": "code",
   "execution_count": 32,
   "id": "582f5847-0c5d-4d39-89f3-077822ffcdc5",
   "metadata": {},
   "outputs": [
    {
     "ename": "NameError",
     "evalue": "name 'fraud_data' is not defined",
     "output_type": "error",
     "traceback": [
      "\u001b[1;31m---------------------------------------------------------------------------\u001b[0m",
      "\u001b[1;31mNameError\u001b[0m                                 Traceback (most recent call last)",
      "Cell \u001b[1;32mIn[32], line 8\u001b[0m\n\u001b[0;32m      5\u001b[0m non_fraud_data\u001b[38;5;241m=\u001b[39mdata[data[\u001b[38;5;124m'\u001b[39m\u001b[38;5;124mfraud\u001b[39m\u001b[38;5;124m'\u001b[39m]\u001b[38;5;241m==\u001b[39m\u001b[38;5;241m0\u001b[39m]\n\u001b[0;32m      7\u001b[0m \u001b[38;5;66;03m#sample each class separately while maintaining proportions \u001b[39;00m\n\u001b[1;32m----> 8\u001b[0m sampled_fraud_data\u001b[38;5;241m=\u001b[39m\u001b[43mfraud_data\u001b[49m\u001b[38;5;241m.\u001b[39msample(frac\u001b[38;5;241m=\u001b[39m\u001b[38;5;241m0.5\u001b[39m, random_state\u001b[38;5;241m=\u001b[39m\u001b[38;5;241m42\u001b[39m)\n\u001b[0;32m      9\u001b[0m sampled_non_fraud_data\u001b[38;5;241m=\u001b[39mnon_fraud_data\u001b[38;5;241m.\u001b[39msample(frac\u001b[38;5;241m=\u001b[39m\u001b[38;5;241m0.5\u001b[39m,random_state\u001b[38;5;241m=\u001b[39m\u001b[38;5;241m42\u001b[39m)\n\u001b[0;32m     11\u001b[0m \u001b[38;5;66;03m#combine the sample data back together\u001b[39;00m\n",
      "\u001b[1;31mNameError\u001b[0m: name 'fraud_data' is not defined"
     ]
    }
   ],
   "source": [
    "from sklearn.model_selection import train_test_split\n",
    "\n",
    "#split the data into 'fraud' and 'non-fraud' classes\n",
    "non_fraud_data=data[data['fraud']==1]\n",
    "non_fraud_data=data[data['fraud']==0]\n",
    "\n",
    "#sample each class separately while maintaining proportions \n",
    "sampled_fraud_data=fraud_data.sample(frac=0.5, random_state=42)\n",
    "sampled_non_fraud_data=non_fraud_data.sample(frac=0.5,random_state=42)\n",
    "\n",
    "#combine the sample data back together\n",
    "data=pd.concat([sampled_fraud_data,sampled_non_fraud_data])"
   ]
  },
  {
   "cell_type": "code",
   "execution_count": 33,
   "id": "03b2e274-7521-475e-b9c8-ca6f14b37f1c",
   "metadata": {},
   "outputs": [],
   "source": [
    "from sklearn.model_selection import train_test_split\n",
    "\n",
    "# Split the data into fraud and non-fraud classes\n",
    "fraud_data = data[data['fraud'] == 1]\n",
    "non_fraud_data = data[data['fraud'] == 0]\n",
    "\n",
    "# Sample each class separately (e.g., 50% of each class)\n",
    "sampled_fraud_data = fraud_data.sample(frac=0.5, random_state=42)\n",
    "sampled_non_fraud_data = non_fraud_data.sample(frac=0.5, random_state=42)\n",
    "\n",
    "# Combine the sampled data back together\n",
    "data = pd.concat([sampled_fraud_data, sampled_non_fraud_data]).sample(frac=1, random_state=42).reset_index(drop=True)\n"
   ]
  },
  {
   "cell_type": "code",
   "execution_count": 34,
   "id": "c94b05fd-22c2-4743-b94b-178faa2c3340",
   "metadata": {},
   "outputs": [
    {
     "name": "stdout",
     "output_type": "stream",
     "text": [
      "fraud\n",
      "0    246\n",
      "1     78\n",
      "Name: count, dtype: int64\n"
     ]
    }
   ],
   "source": [
    "print(data['fraud'].value_counts()) #cross checking class balance\n"
   ]
  },
  {
   "cell_type": "markdown",
   "id": "ab3777fb-1d41-434b-967b-6203495f7ce7",
   "metadata": {},
   "source": [
    "# MODEL BUILDING"
   ]
  },
  {
   "cell_type": "code",
   "execution_count": null,
   "id": "c99897fb-ab77-423a-8dd0-ac9f1f77e77f",
   "metadata": {},
   "outputs": [],
   "source": []
  }
 ],
 "metadata": {
  "kernelspec": {
   "display_name": "Python 3 (ipykernel)",
   "language": "python",
   "name": "python3"
  },
  "language_info": {
   "codemirror_mode": {
    "name": "ipython",
    "version": 3
   },
   "file_extension": ".py",
   "mimetype": "text/x-python",
   "name": "python",
   "nbconvert_exporter": "python",
   "pygments_lexer": "ipython3",
   "version": "3.13.1"
  }
 },
 "nbformat": 4,
 "nbformat_minor": 5
}
